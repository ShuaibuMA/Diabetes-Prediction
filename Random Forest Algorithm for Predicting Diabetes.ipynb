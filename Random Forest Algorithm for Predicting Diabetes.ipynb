{
 "cells": [
  {
   "cell_type": "code",
   "execution_count": 78,
   "id": "0c0c8c87",
   "metadata": {},
   "outputs": [],
   "source": [
    "#Importing the important libraries i need\n",
    "import pandas as pd \n",
    "import numpy as np\n",
    "import seaborn as sns\n",
    "import matplotlib.pyplot as plt\n",
    "from sklearn.preprocessing import LabelEncoder\n",
    "from sklearn.model_selection import train_test_split\n",
    "from sklearn.ensemble import RandomForestClassifier\n",
    "from sklearn.metrics import confusion_matrix\n",
    "from sklearn.metrics import accuracy_score\n",
    "from sklearn.model_selection import cross_val_score\n",
    "from sklearn.metrics import classification_report\n",
    "from sklearn.metrics import mean_squared_error\n",
    "from time import time"
   ]
  },
  {
   "cell_type": "code",
   "execution_count": 79,
   "id": "030931e5",
   "metadata": {},
   "outputs": [],
   "source": [
    "df = pd.read_csv(\"sabiu.csv\")"
   ]
  },
  {
   "cell_type": "code",
   "execution_count": 80,
   "id": "f50a84c4",
   "metadata": {},
   "outputs": [
    {
     "data": {
      "text/plain": [
       "(100000, 9)"
      ]
     },
     "execution_count": 80,
     "metadata": {},
     "output_type": "execute_result"
    }
   ],
   "source": [
    "df.shape"
   ]
  },
  {
   "cell_type": "code",
   "execution_count": 81,
   "id": "12d0083b",
   "metadata": {},
   "outputs": [
    {
     "data": {
      "text/html": [
       "<div>\n",
       "<style scoped>\n",
       "    .dataframe tbody tr th:only-of-type {\n",
       "        vertical-align: middle;\n",
       "    }\n",
       "\n",
       "    .dataframe tbody tr th {\n",
       "        vertical-align: top;\n",
       "    }\n",
       "\n",
       "    .dataframe thead th {\n",
       "        text-align: right;\n",
       "    }\n",
       "</style>\n",
       "<table border=\"1\" class=\"dataframe\">\n",
       "  <thead>\n",
       "    <tr style=\"text-align: right;\">\n",
       "      <th></th>\n",
       "      <th>gender</th>\n",
       "      <th>age</th>\n",
       "      <th>hypertension</th>\n",
       "      <th>heartdisease</th>\n",
       "      <th>smokinghistory</th>\n",
       "      <th>bmi</th>\n",
       "      <th>HbA1clevel</th>\n",
       "      <th>bloodglucoselevel</th>\n",
       "      <th>diabetes</th>\n",
       "    </tr>\n",
       "  </thead>\n",
       "  <tbody>\n",
       "    <tr>\n",
       "      <th>0</th>\n",
       "      <td>Female</td>\n",
       "      <td>80.0</td>\n",
       "      <td>0</td>\n",
       "      <td>1</td>\n",
       "      <td>never</td>\n",
       "      <td>25.19</td>\n",
       "      <td>6.6</td>\n",
       "      <td>140</td>\n",
       "      <td>0</td>\n",
       "    </tr>\n",
       "    <tr>\n",
       "      <th>1</th>\n",
       "      <td>Female</td>\n",
       "      <td>54.0</td>\n",
       "      <td>0</td>\n",
       "      <td>0</td>\n",
       "      <td>No Info</td>\n",
       "      <td>27.32</td>\n",
       "      <td>6.6</td>\n",
       "      <td>80</td>\n",
       "      <td>0</td>\n",
       "    </tr>\n",
       "    <tr>\n",
       "      <th>2</th>\n",
       "      <td>Male</td>\n",
       "      <td>28.0</td>\n",
       "      <td>0</td>\n",
       "      <td>0</td>\n",
       "      <td>never</td>\n",
       "      <td>27.32</td>\n",
       "      <td>5.7</td>\n",
       "      <td>158</td>\n",
       "      <td>0</td>\n",
       "    </tr>\n",
       "    <tr>\n",
       "      <th>3</th>\n",
       "      <td>Female</td>\n",
       "      <td>36.0</td>\n",
       "      <td>0</td>\n",
       "      <td>0</td>\n",
       "      <td>current</td>\n",
       "      <td>23.45</td>\n",
       "      <td>5.0</td>\n",
       "      <td>155</td>\n",
       "      <td>0</td>\n",
       "    </tr>\n",
       "    <tr>\n",
       "      <th>4</th>\n",
       "      <td>Male</td>\n",
       "      <td>76.0</td>\n",
       "      <td>1</td>\n",
       "      <td>1</td>\n",
       "      <td>current</td>\n",
       "      <td>20.14</td>\n",
       "      <td>4.8</td>\n",
       "      <td>155</td>\n",
       "      <td>0</td>\n",
       "    </tr>\n",
       "  </tbody>\n",
       "</table>\n",
       "</div>"
      ],
      "text/plain": [
       "   gender   age  hypertension  heartdisease smokinghistory    bmi  HbA1clevel  \\\n",
       "0  Female  80.0             0             1          never  25.19         6.6   \n",
       "1  Female  54.0             0             0        No Info  27.32         6.6   \n",
       "2    Male  28.0             0             0          never  27.32         5.7   \n",
       "3  Female  36.0             0             0        current  23.45         5.0   \n",
       "4    Male  76.0             1             1        current  20.14         4.8   \n",
       "\n",
       "   bloodglucoselevel  diabetes  \n",
       "0                140         0  \n",
       "1                 80         0  \n",
       "2                158         0  \n",
       "3                155         0  \n",
       "4                155         0  "
      ]
     },
     "execution_count": 81,
     "metadata": {},
     "output_type": "execute_result"
    }
   ],
   "source": [
    "df.head()"
   ]
  },
  {
   "cell_type": "code",
   "execution_count": 82,
   "id": "d59b6ada",
   "metadata": {},
   "outputs": [
    {
     "data": {
      "text/html": [
       "<div>\n",
       "<style scoped>\n",
       "    .dataframe tbody tr th:only-of-type {\n",
       "        vertical-align: middle;\n",
       "    }\n",
       "\n",
       "    .dataframe tbody tr th {\n",
       "        vertical-align: top;\n",
       "    }\n",
       "\n",
       "    .dataframe thead th {\n",
       "        text-align: right;\n",
       "    }\n",
       "</style>\n",
       "<table border=\"1\" class=\"dataframe\">\n",
       "  <thead>\n",
       "    <tr style=\"text-align: right;\">\n",
       "      <th></th>\n",
       "      <th>age</th>\n",
       "      <th>hypertension</th>\n",
       "      <th>heartdisease</th>\n",
       "      <th>bmi</th>\n",
       "      <th>HbA1clevel</th>\n",
       "      <th>bloodglucoselevel</th>\n",
       "      <th>diabetes</th>\n",
       "    </tr>\n",
       "  </thead>\n",
       "  <tbody>\n",
       "    <tr>\n",
       "      <th>age</th>\n",
       "      <td>507.008078</td>\n",
       "      <td>1.488269</td>\n",
       "      <td>1.022470</td>\n",
       "      <td>50.420219</td>\n",
       "      <td>2.443449</td>\n",
       "      <td>101.444257</td>\n",
       "      <td>1.620178</td>\n",
       "    </tr>\n",
       "    <tr>\n",
       "      <th>hypertension</th>\n",
       "      <td>1.488269</td>\n",
       "      <td>0.069248</td>\n",
       "      <td>0.006209</td>\n",
       "      <td>0.257894</td>\n",
       "      <td>0.022804</td>\n",
       "      <td>0.904433</td>\n",
       "      <td>0.014518</td>\n",
       "    </tr>\n",
       "    <tr>\n",
       "      <th>heartdisease</th>\n",
       "      <td>1.022470</td>\n",
       "      <td>0.006209</td>\n",
       "      <td>0.037866</td>\n",
       "      <td>0.079035</td>\n",
       "      <td>0.014082</td>\n",
       "      <td>0.555027</td>\n",
       "      <td>0.009319</td>\n",
       "    </tr>\n",
       "    <tr>\n",
       "      <th>bmi</th>\n",
       "      <td>50.420219</td>\n",
       "      <td>0.257894</td>\n",
       "      <td>0.079035</td>\n",
       "      <td>44.046894</td>\n",
       "      <td>0.589763</td>\n",
       "      <td>24.656192</td>\n",
       "      <td>0.396751</td>\n",
       "    </tr>\n",
       "    <tr>\n",
       "      <th>HbA1clevel</th>\n",
       "      <td>2.443449</td>\n",
       "      <td>0.022804</td>\n",
       "      <td>0.014082</td>\n",
       "      <td>0.589763</td>\n",
       "      <td>1.146339</td>\n",
       "      <td>7.267066</td>\n",
       "      <td>0.119634</td>\n",
       "    </tr>\n",
       "    <tr>\n",
       "      <th>bloodglucoselevel</th>\n",
       "      <td>101.444257</td>\n",
       "      <td>0.904433</td>\n",
       "      <td>0.555027</td>\n",
       "      <td>24.656192</td>\n",
       "      <td>7.267066</td>\n",
       "      <td>1657.152341</td>\n",
       "      <td>4.763163</td>\n",
       "    </tr>\n",
       "    <tr>\n",
       "      <th>diabetes</th>\n",
       "      <td>1.620178</td>\n",
       "      <td>0.014518</td>\n",
       "      <td>0.009319</td>\n",
       "      <td>0.396751</td>\n",
       "      <td>0.119634</td>\n",
       "      <td>4.763163</td>\n",
       "      <td>0.077776</td>\n",
       "    </tr>\n",
       "  </tbody>\n",
       "</table>\n",
       "</div>"
      ],
      "text/plain": [
       "                          age  hypertension  heartdisease        bmi  \\\n",
       "age                507.008078      1.488269      1.022470  50.420219   \n",
       "hypertension         1.488269      0.069248      0.006209   0.257894   \n",
       "heartdisease         1.022470      0.006209      0.037866   0.079035   \n",
       "bmi                 50.420219      0.257894      0.079035  44.046894   \n",
       "HbA1clevel           2.443449      0.022804      0.014082   0.589763   \n",
       "bloodglucoselevel  101.444257      0.904433      0.555027  24.656192   \n",
       "diabetes             1.620178      0.014518      0.009319   0.396751   \n",
       "\n",
       "                   HbA1clevel  bloodglucoselevel  diabetes  \n",
       "age                  2.443449         101.444257  1.620178  \n",
       "hypertension         0.022804           0.904433  0.014518  \n",
       "heartdisease         0.014082           0.555027  0.009319  \n",
       "bmi                  0.589763          24.656192  0.396751  \n",
       "HbA1clevel           1.146339           7.267066  0.119634  \n",
       "bloodglucoselevel    7.267066        1657.152341  4.763163  \n",
       "diabetes             0.119634           4.763163  0.077776  "
      ]
     },
     "execution_count": 82,
     "metadata": {},
     "output_type": "execute_result"
    }
   ],
   "source": [
    "df.cov()"
   ]
  },
  {
   "cell_type": "code",
   "execution_count": 83,
   "id": "2f3e362e",
   "metadata": {},
   "outputs": [
    {
     "data": {
      "text/html": [
       "<div>\n",
       "<style scoped>\n",
       "    .dataframe tbody tr th:only-of-type {\n",
       "        vertical-align: middle;\n",
       "    }\n",
       "\n",
       "    .dataframe tbody tr th {\n",
       "        vertical-align: top;\n",
       "    }\n",
       "\n",
       "    .dataframe thead th {\n",
       "        text-align: right;\n",
       "    }\n",
       "</style>\n",
       "<table border=\"1\" class=\"dataframe\">\n",
       "  <thead>\n",
       "    <tr style=\"text-align: right;\">\n",
       "      <th></th>\n",
       "      <th>age</th>\n",
       "      <th>hypertension</th>\n",
       "      <th>heartdisease</th>\n",
       "      <th>bmi</th>\n",
       "      <th>HbA1clevel</th>\n",
       "      <th>bloodglucoselevel</th>\n",
       "      <th>diabetes</th>\n",
       "    </tr>\n",
       "  </thead>\n",
       "  <tbody>\n",
       "    <tr>\n",
       "      <th>age</th>\n",
       "      <td>1.000000</td>\n",
       "      <td>0.251171</td>\n",
       "      <td>0.233354</td>\n",
       "      <td>0.337396</td>\n",
       "      <td>0.101354</td>\n",
       "      <td>0.110672</td>\n",
       "      <td>0.258008</td>\n",
       "    </tr>\n",
       "    <tr>\n",
       "      <th>hypertension</th>\n",
       "      <td>0.251171</td>\n",
       "      <td>1.000000</td>\n",
       "      <td>0.121262</td>\n",
       "      <td>0.147666</td>\n",
       "      <td>0.080939</td>\n",
       "      <td>0.084429</td>\n",
       "      <td>0.197823</td>\n",
       "    </tr>\n",
       "    <tr>\n",
       "      <th>heartdisease</th>\n",
       "      <td>0.233354</td>\n",
       "      <td>0.121262</td>\n",
       "      <td>1.000000</td>\n",
       "      <td>0.061198</td>\n",
       "      <td>0.067589</td>\n",
       "      <td>0.070066</td>\n",
       "      <td>0.171727</td>\n",
       "    </tr>\n",
       "    <tr>\n",
       "      <th>bmi</th>\n",
       "      <td>0.337396</td>\n",
       "      <td>0.147666</td>\n",
       "      <td>0.061198</td>\n",
       "      <td>1.000000</td>\n",
       "      <td>0.082997</td>\n",
       "      <td>0.091261</td>\n",
       "      <td>0.214357</td>\n",
       "    </tr>\n",
       "    <tr>\n",
       "      <th>HbA1clevel</th>\n",
       "      <td>0.101354</td>\n",
       "      <td>0.080939</td>\n",
       "      <td>0.067589</td>\n",
       "      <td>0.082997</td>\n",
       "      <td>1.000000</td>\n",
       "      <td>0.166733</td>\n",
       "      <td>0.400660</td>\n",
       "    </tr>\n",
       "    <tr>\n",
       "      <th>bloodglucoselevel</th>\n",
       "      <td>0.110672</td>\n",
       "      <td>0.084429</td>\n",
       "      <td>0.070066</td>\n",
       "      <td>0.091261</td>\n",
       "      <td>0.166733</td>\n",
       "      <td>1.000000</td>\n",
       "      <td>0.419558</td>\n",
       "    </tr>\n",
       "    <tr>\n",
       "      <th>diabetes</th>\n",
       "      <td>0.258008</td>\n",
       "      <td>0.197823</td>\n",
       "      <td>0.171727</td>\n",
       "      <td>0.214357</td>\n",
       "      <td>0.400660</td>\n",
       "      <td>0.419558</td>\n",
       "      <td>1.000000</td>\n",
       "    </tr>\n",
       "  </tbody>\n",
       "</table>\n",
       "</div>"
      ],
      "text/plain": [
       "                        age  hypertension  heartdisease       bmi  HbA1clevel  \\\n",
       "age                1.000000      0.251171      0.233354  0.337396    0.101354   \n",
       "hypertension       0.251171      1.000000      0.121262  0.147666    0.080939   \n",
       "heartdisease       0.233354      0.121262      1.000000  0.061198    0.067589   \n",
       "bmi                0.337396      0.147666      0.061198  1.000000    0.082997   \n",
       "HbA1clevel         0.101354      0.080939      0.067589  0.082997    1.000000   \n",
       "bloodglucoselevel  0.110672      0.084429      0.070066  0.091261    0.166733   \n",
       "diabetes           0.258008      0.197823      0.171727  0.214357    0.400660   \n",
       "\n",
       "                   bloodglucoselevel  diabetes  \n",
       "age                         0.110672  0.258008  \n",
       "hypertension                0.084429  0.197823  \n",
       "heartdisease                0.070066  0.171727  \n",
       "bmi                         0.091261  0.214357  \n",
       "HbA1clevel                  0.166733  0.400660  \n",
       "bloodglucoselevel           1.000000  0.419558  \n",
       "diabetes                    0.419558  1.000000  "
      ]
     },
     "execution_count": 83,
     "metadata": {},
     "output_type": "execute_result"
    }
   ],
   "source": [
    "df.corr()"
   ]
  },
  {
   "cell_type": "code",
   "execution_count": 84,
   "id": "13c7522b",
   "metadata": {},
   "outputs": [
    {
     "data": {
      "text/plain": [
       "<AxesSubplot:>"
      ]
     },
     "execution_count": 84,
     "metadata": {},
     "output_type": "execute_result"
    },
    {
     "data": {
      "image/png": "[encoded data removed]",
      "text/plain": [
       "<Figure size 288x216 with 2 Axes>"
      ]
     },
     "metadata": {
      "needs_background": "light"
     },
     "output_type": "display_data"
    }
   ],
   "source": [
    "plt.figure(figsize=(4,3))\n",
    "sns.heatmap(df.corr())"
   ]
  },
  {
   "cell_type": "code",
   "execution_count": 85,
   "id": "2307e501",
   "metadata": {},
   "outputs": [
    {
     "data": {
      "text/html": [
       "<div>\n",
       "<style scoped>\n",
       "    .dataframe tbody tr th:only-of-type {\n",
       "        vertical-align: middle;\n",
       "    }\n",
       "\n",
       "    .dataframe tbody tr th {\n",
       "        vertical-align: top;\n",
       "    }\n",
       "\n",
       "    .dataframe thead th {\n",
       "        text-align: right;\n",
       "    }\n",
       "</style>\n",
       "<table border=\"1\" class=\"dataframe\">\n",
       "  <thead>\n",
       "    <tr style=\"text-align: right;\">\n",
       "      <th></th>\n",
       "      <th>age</th>\n",
       "      <th>hypertension</th>\n",
       "      <th>heartdisease</th>\n",
       "      <th>bmi</th>\n",
       "      <th>HbA1clevel</th>\n",
       "      <th>bloodglucoselevel</th>\n",
       "      <th>diabetes</th>\n",
       "    </tr>\n",
       "  </thead>\n",
       "  <tbody>\n",
       "    <tr>\n",
       "      <th>count</th>\n",
       "      <td>100000.000000</td>\n",
       "      <td>100000.00000</td>\n",
       "      <td>100000.000000</td>\n",
       "      <td>100000.000000</td>\n",
       "      <td>100000.000000</td>\n",
       "      <td>100000.000000</td>\n",
       "      <td>100000.000000</td>\n",
       "    </tr>\n",
       "    <tr>\n",
       "      <th>mean</th>\n",
       "      <td>41.885856</td>\n",
       "      <td>0.07485</td>\n",
       "      <td>0.039420</td>\n",
       "      <td>27.320767</td>\n",
       "      <td>5.527507</td>\n",
       "      <td>138.058060</td>\n",
       "      <td>0.085000</td>\n",
       "    </tr>\n",
       "    <tr>\n",
       "      <th>std</th>\n",
       "      <td>22.516840</td>\n",
       "      <td>0.26315</td>\n",
       "      <td>0.194593</td>\n",
       "      <td>6.636783</td>\n",
       "      <td>1.070672</td>\n",
       "      <td>40.708136</td>\n",
       "      <td>0.278883</td>\n",
       "    </tr>\n",
       "    <tr>\n",
       "      <th>min</th>\n",
       "      <td>0.080000</td>\n",
       "      <td>0.00000</td>\n",
       "      <td>0.000000</td>\n",
       "      <td>10.010000</td>\n",
       "      <td>3.500000</td>\n",
       "      <td>80.000000</td>\n",
       "      <td>0.000000</td>\n",
       "    </tr>\n",
       "    <tr>\n",
       "      <th>25%</th>\n",
       "      <td>24.000000</td>\n",
       "      <td>0.00000</td>\n",
       "      <td>0.000000</td>\n",
       "      <td>23.630000</td>\n",
       "      <td>4.800000</td>\n",
       "      <td>100.000000</td>\n",
       "      <td>0.000000</td>\n",
       "    </tr>\n",
       "    <tr>\n",
       "      <th>50%</th>\n",
       "      <td>43.000000</td>\n",
       "      <td>0.00000</td>\n",
       "      <td>0.000000</td>\n",
       "      <td>27.320000</td>\n",
       "      <td>5.800000</td>\n",
       "      <td>140.000000</td>\n",
       "      <td>0.000000</td>\n",
       "    </tr>\n",
       "    <tr>\n",
       "      <th>75%</th>\n",
       "      <td>60.000000</td>\n",
       "      <td>0.00000</td>\n",
       "      <td>0.000000</td>\n",
       "      <td>29.580000</td>\n",
       "      <td>6.200000</td>\n",
       "      <td>159.000000</td>\n",
       "      <td>0.000000</td>\n",
       "    </tr>\n",
       "    <tr>\n",
       "      <th>max</th>\n",
       "      <td>80.000000</td>\n",
       "      <td>1.00000</td>\n",
       "      <td>1.000000</td>\n",
       "      <td>95.690000</td>\n",
       "      <td>9.000000</td>\n",
       "      <td>300.000000</td>\n",
       "      <td>1.000000</td>\n",
       "    </tr>\n",
       "  </tbody>\n",
       "</table>\n",
       "</div>"
      ],
      "text/plain": [
       "                 age  hypertension   heartdisease            bmi  \\\n",
       "count  100000.000000  100000.00000  100000.000000  100000.000000   \n",
       "mean       41.885856       0.07485       0.039420      27.320767   \n",
       "std        22.516840       0.26315       0.194593       6.636783   \n",
       "min         0.080000       0.00000       0.000000      10.010000   \n",
       "25%        24.000000       0.00000       0.000000      23.630000   \n",
       "50%        43.000000       0.00000       0.000000      27.320000   \n",
       "75%        60.000000       0.00000       0.000000      29.580000   \n",
       "max        80.000000       1.00000       1.000000      95.690000   \n",
       "\n",
       "          HbA1clevel  bloodglucoselevel       diabetes  \n",
       "count  100000.000000      100000.000000  100000.000000  \n",
       "mean        5.527507         138.058060       0.085000  \n",
       "std         1.070672          40.708136       0.278883  \n",
       "min         3.500000          80.000000       0.000000  \n",
       "25%         4.800000         100.000000       0.000000  \n",
       "50%         5.800000         140.000000       0.000000  \n",
       "75%         6.200000         159.000000       0.000000  \n",
       "max         9.000000         300.000000       1.000000  "
      ]
     },
     "execution_count": 85,
     "metadata": {},
     "output_type": "execute_result"
    }
   ],
   "source": [
    "#Exploring the dataset to get some statistical information\n",
    "df.describe()"
   ]
  },
  {
   "cell_type": "code",
   "execution_count": 86,
   "id": "ade5af12",
   "metadata": {},
   "outputs": [],
   "source": [
    "#Converting dataset to categorical\n",
    "df[\"gender\"]=df[\"gender\"].astype(\"category\")\n",
    "df[\"age\"]=df[\"age\"].astype(\"category\")\n",
    "df[\"hypertension\"]=df[\"hypertension\"].astype(\"category\")\n",
    "df[\"heartdisease\"]=df[\"heartdisease\"].astype(\"category\")\n",
    "df[\"smokinghistory\"]=df[\"smokinghistory\"].astype(\"category\")\n",
    "df[\"bmi\"]=df[\"bmi\"].astype(\"category\")\n",
    "df[\"HbA1clevel\"]=df[\"HbA1clevel\"].astype(\"category\")\n",
    "df[\"bloodglucoselevel\"]=df[\"bloodglucoselevel\"].astype(\"category\")\n",
    "df[\"diabetes\"]=df[\"diabetes\"].astype(\"category\")"
   ]
  },
  {
   "cell_type": "code",
   "execution_count": 87,
   "id": "6511feef",
   "metadata": {},
   "outputs": [
    {
     "name": "stdout",
     "output_type": "stream",
     "text": [
      "<class 'pandas.core.frame.DataFrame'>\n",
      "RangeIndex: 100000 entries, 0 to 99999\n",
      "Data columns (total 9 columns):\n",
      " #   Column             Non-Null Count   Dtype   \n",
      "---  ------             --------------   -----   \n",
      " 0   gender             100000 non-null  category\n",
      " 1   age                100000 non-null  category\n",
      " 2   hypertension       100000 non-null  category\n",
      " 3   heartdisease       100000 non-null  category\n",
      " 4   smokinghistory     100000 non-null  category\n",
      " 5   bmi                100000 non-null  category\n",
      " 6   HbA1clevel         100000 non-null  category\n",
      " 7   bloodglucoselevel  100000 non-null  category\n",
      " 8   diabetes           100000 non-null  category\n",
      "dtypes: category(9)\n",
      "memory usage: 1.1 MB\n"
     ]
    }
   ],
   "source": [
    "df.info()"
   ]
  },
  {
   "cell_type": "code",
   "execution_count": 88,
   "id": "2a63e3a7",
   "metadata": {},
   "outputs": [
    {
     "data": {
      "text/plain": [
       "gender               0\n",
       "age                  0\n",
       "hypertension         0\n",
       "heartdisease         0\n",
       "smokinghistory       0\n",
       "bmi                  0\n",
       "HbA1clevel           0\n",
       "bloodglucoselevel    0\n",
       "diabetes             0\n",
       "dtype: int64"
      ]
     },
     "execution_count": 88,
     "metadata": {},
     "output_type": "execute_result"
    }
   ],
   "source": [
    "#Checking for null values in my dataset\n",
    "df.isnull().sum()"
   ]
  },
  {
   "cell_type": "code",
   "execution_count": 89,
   "id": "cf75675e",
   "metadata": {},
   "outputs": [
    {
     "data": {
      "text/plain": [
       "Female    58552\n",
       "Male      41430\n",
       "Other        18\n",
       "Name: gender, dtype: int64"
      ]
     },
     "execution_count": 89,
     "metadata": {},
     "output_type": "execute_result"
    }
   ],
   "source": [
    "#Statistics of Gender\n",
    "df[\"gender\"].value_counts()"
   ]
  },
  {
   "cell_type": "code",
   "execution_count": 90,
   "id": "e32e8af1",
   "metadata": {},
   "outputs": [
    {
     "data": {
      "text/plain": [
       "0    96058\n",
       "1     3942\n",
       "Name: heartdisease, dtype: int64"
      ]
     },
     "execution_count": 90,
     "metadata": {},
     "output_type": "execute_result"
    }
   ],
   "source": [
    "#Statistics of Heart Disease\n",
    "df[\"heartdisease\"].value_counts()"
   ]
  },
  {
   "cell_type": "code",
   "execution_count": 91,
   "id": "40b5a6dd",
   "metadata": {},
   "outputs": [
    {
     "data": {
      "text/plain": [
       "0    91500\n",
       "1     8500\n",
       "Name: diabetes, dtype: int64"
      ]
     },
     "execution_count": 91,
     "metadata": {},
     "output_type": "execute_result"
    }
   ],
   "source": [
    "#Statistics of Diabetes\n",
    "df[\"diabetes\"].value_counts()"
   ]
  },
  {
   "cell_type": "code",
   "execution_count": 92,
   "id": "14342ade",
   "metadata": {},
   "outputs": [
    {
     "data": {
      "text/plain": [
       "No Info        35816\n",
       "never          35095\n",
       "former          9352\n",
       "current         9286\n",
       "not current     6447\n",
       "ever            4004\n",
       "Name: smokinghistory, dtype: int64"
      ]
     },
     "execution_count": 92,
     "metadata": {},
     "output_type": "execute_result"
    }
   ],
   "source": [
    "#Statistics of Smoking History\n",
    "df[\"smokinghistory\"].value_counts()"
   ]
  },
  {
   "cell_type": "code",
   "execution_count": 93,
   "id": "6033f54d",
   "metadata": {},
   "outputs": [
    {
     "data": {
      "text/plain": [
       "130    7794\n",
       "159    7759\n",
       "140    7732\n",
       "160    7712\n",
       "126    7702\n",
       "145    7679\n",
       "200    7600\n",
       "155    7575\n",
       "90     7112\n",
       "80     7106\n",
       "158    7026\n",
       "100    7025\n",
       "85     6901\n",
       "280     729\n",
       "300     674\n",
       "240     636\n",
       "260     635\n",
       "220     603\n",
       "Name: bloodglucoselevel, dtype: int64"
      ]
     },
     "execution_count": 93,
     "metadata": {},
     "output_type": "execute_result"
    }
   ],
   "source": [
    "#Statistics of Blood Glucose Level\n",
    "df[\"bloodglucoselevel\"].value_counts()"
   ]
  },
  {
   "cell_type": "code",
   "execution_count": 94,
   "id": "dbecbaff",
   "metadata": {},
   "outputs": [],
   "source": [
    "LE = LabelEncoder() #creating an instance of label encoder"
   ]
  },
  {
   "cell_type": "code",
   "execution_count": 95,
   "id": "654b0b8f",
   "metadata": {},
   "outputs": [],
   "source": [
    "df.gender = LE.fit_transform(df.gender)"
   ]
  },
  {
   "cell_type": "code",
   "execution_count": 96,
   "id": "65ed1db9",
   "metadata": {},
   "outputs": [],
   "source": [
    "df.smokinghistory = LE.fit_transform(df.smokinghistory)"
   ]
  },
  {
   "cell_type": "code",
   "execution_count": 97,
   "id": "4e8dcf64",
   "metadata": {},
   "outputs": [],
   "source": [
    "df.gender = LE.fit_transform(df.gender)"
   ]
  },
  {
   "cell_type": "code",
   "execution_count": 98,
   "id": "2032484d",
   "metadata": {},
   "outputs": [
    {
     "data": {
      "text/html": [
       "<div>\n",
       "<style scoped>\n",
       "    .dataframe tbody tr th:only-of-type {\n",
       "        vertical-align: middle;\n",
       "    }\n",
       "\n",
       "    .dataframe tbody tr th {\n",
       "        vertical-align: top;\n",
       "    }\n",
       "\n",
       "    .dataframe thead th {\n",
       "        text-align: right;\n",
       "    }\n",
       "</style>\n",
       "<table border=\"1\" class=\"dataframe\">\n",
       "  <thead>\n",
       "    <tr style=\"text-align: right;\">\n",
       "      <th></th>\n",
       "      <th>gender</th>\n",
       "      <th>age</th>\n",
       "      <th>hypertension</th>\n",
       "      <th>heartdisease</th>\n",
       "      <th>smokinghistory</th>\n",
       "      <th>bmi</th>\n",
       "      <th>HbA1clevel</th>\n",
       "      <th>bloodglucoselevel</th>\n",
       "      <th>diabetes</th>\n",
       "    </tr>\n",
       "  </thead>\n",
       "  <tbody>\n",
       "    <tr>\n",
       "      <th>0</th>\n",
       "      <td>0</td>\n",
       "      <td>80.0</td>\n",
       "      <td>0</td>\n",
       "      <td>1</td>\n",
       "      <td>4</td>\n",
       "      <td>25.19</td>\n",
       "      <td>6.6</td>\n",
       "      <td>140</td>\n",
       "      <td>0</td>\n",
       "    </tr>\n",
       "    <tr>\n",
       "      <th>1</th>\n",
       "      <td>0</td>\n",
       "      <td>54.0</td>\n",
       "      <td>0</td>\n",
       "      <td>0</td>\n",
       "      <td>0</td>\n",
       "      <td>27.32</td>\n",
       "      <td>6.6</td>\n",
       "      <td>80</td>\n",
       "      <td>0</td>\n",
       "    </tr>\n",
       "    <tr>\n",
       "      <th>2</th>\n",
       "      <td>1</td>\n",
       "      <td>28.0</td>\n",
       "      <td>0</td>\n",
       "      <td>0</td>\n",
       "      <td>4</td>\n",
       "      <td>27.32</td>\n",
       "      <td>5.7</td>\n",
       "      <td>158</td>\n",
       "      <td>0</td>\n",
       "    </tr>\n",
       "    <tr>\n",
       "      <th>3</th>\n",
       "      <td>0</td>\n",
       "      <td>36.0</td>\n",
       "      <td>0</td>\n",
       "      <td>0</td>\n",
       "      <td>1</td>\n",
       "      <td>23.45</td>\n",
       "      <td>5.0</td>\n",
       "      <td>155</td>\n",
       "      <td>0</td>\n",
       "    </tr>\n",
       "    <tr>\n",
       "      <th>4</th>\n",
       "      <td>1</td>\n",
       "      <td>76.0</td>\n",
       "      <td>1</td>\n",
       "      <td>1</td>\n",
       "      <td>1</td>\n",
       "      <td>20.14</td>\n",
       "      <td>4.8</td>\n",
       "      <td>155</td>\n",
       "      <td>0</td>\n",
       "    </tr>\n",
       "  </tbody>\n",
       "</table>\n",
       "</div>"
      ],
      "text/plain": [
       "   gender   age hypertension heartdisease  smokinghistory    bmi HbA1clevel  \\\n",
       "0       0  80.0            0            1               4  25.19        6.6   \n",
       "1       0  54.0            0            0               0  27.32        6.6   \n",
       "2       1  28.0            0            0               4  27.32        5.7   \n",
       "3       0  36.0            0            0               1  23.45        5.0   \n",
       "4       1  76.0            1            1               1  20.14        4.8   \n",
       "\n",
       "  bloodglucoselevel diabetes  \n",
       "0               140        0  \n",
       "1                80        0  \n",
       "2               158        0  \n",
       "3               155        0  \n",
       "4               155        0  "
      ]
     },
     "execution_count": 98,
     "metadata": {},
     "output_type": "execute_result"
    }
   ],
   "source": [
    "df.head()"
   ]
  },
  {
   "cell_type": "code",
   "execution_count": 99,
   "id": "56554631",
   "metadata": {},
   "outputs": [],
   "source": [
    "x = df.iloc[:,:-1] #This mean I want all the columns except the last one which is the target column \n",
    "y = df.iloc[:, -1]# This time I want the target variable which is the last column"
   ]
  },
  {
   "cell_type": "code",
   "execution_count": 100,
   "id": "b83b31d7",
   "metadata": {},
   "outputs": [
    {
     "data": {
      "text/plain": [
       "(100000, 8)"
      ]
     },
     "execution_count": 100,
     "metadata": {},
     "output_type": "execute_result"
    }
   ],
   "source": [
    "x.shape"
   ]
  },
  {
   "cell_type": "code",
   "execution_count": 101,
   "id": "d1b6fe15",
   "metadata": {},
   "outputs": [
    {
     "data": {
      "text/plain": [
       "(100000,)"
      ]
     },
     "execution_count": 101,
     "metadata": {},
     "output_type": "execute_result"
    }
   ],
   "source": [
    "y.shape"
   ]
  },
  {
   "cell_type": "code",
   "execution_count": 102,
   "id": "52ed832b",
   "metadata": {},
   "outputs": [],
   "source": [
    "#Splitting the dataset into training and testing\n",
    "x_train, x_test, y_train, y_test = train_test_split(x,y, test_size=0.10, random_state=70)"
   ]
  },
  {
   "cell_type": "code",
   "execution_count": 103,
   "id": "517e2238",
   "metadata": {},
   "outputs": [
    {
     "data": {
      "text/plain": [
       "(90000,)"
      ]
     },
     "execution_count": 103,
     "metadata": {},
     "output_type": "execute_result"
    }
   ],
   "source": [
    "y_train.shape"
   ]
  },
  {
   "cell_type": "code",
   "execution_count": 104,
   "id": "a180c6cf",
   "metadata": {},
   "outputs": [],
   "source": [
    "#Making object of the Random Forest Classifier for my required hyper parameters\n",
    "clf = RandomForestClassifier(criterion = \"gini\", #the values of gini purity lies between 0 and 1\n",
    "                            max_depth = 8, #Maximum depth of the tree as it grow\n",
    "                            min_samples_split = 10, #minimum number of samples required to split node and bracnh of the tree\n",
    "                            random_state = 5)"
   ]
  },
  {
   "cell_type": "code",
   "execution_count": 105,
   "id": "38a5b562",
   "metadata": {},
   "outputs": [
    {
     "data": {
      "text/plain": [
       "RandomForestClassifier(max_depth=8, min_samples_split=10, random_state=5)"
      ]
     },
     "execution_count": 105,
     "metadata": {},
     "output_type": "execute_result"
    }
   ],
   "source": [
    "clf.fit(x_train, y_train)"
   ]
  },
  {
   "cell_type": "code",
   "execution_count": 106,
   "id": "099bc3ac",
   "metadata": {},
   "outputs": [
    {
     "data": {
      "text/plain": [
       "array([0.00071861, 0.04926513, 0.02129214, 0.01113405, 0.00433797,\n",
       "       0.02793494, 0.50321071, 0.38210645])"
      ]
     },
     "execution_count": 106,
     "metadata": {},
     "output_type": "execute_result"
    }
   ],
   "source": [
    "#Looking at the important feature since we have so many independent variables\n",
    "clf.feature_importances_"
   ]
  },
  {
   "cell_type": "code",
   "execution_count": 107,
   "id": "46e91063",
   "metadata": {},
   "outputs": [
    {
     "data": {
      "text/plain": [
       "Index(['gender', 'age', 'hypertension', 'heartdisease', 'smokinghistory',\n",
       "       'bmi', 'HbA1clevel', 'bloodglucoselevel', 'diabetes'],\n",
       "      dtype='object')"
      ]
     },
     "execution_count": 107,
     "metadata": {},
     "output_type": "execute_result"
    }
   ],
   "source": [
    "#looking at the importance of the variables from column view (in terms of percentage)\n",
    "df.columns"
   ]
  },
  {
   "cell_type": "code",
   "execution_count": 108,
   "id": "d5310e07",
   "metadata": {},
   "outputs": [],
   "source": [
    "y_pred = clf.predict(x_test)"
   ]
  },
  {
   "cell_type": "code",
   "execution_count": 109,
   "id": "ded04204",
   "metadata": {},
   "outputs": [
    {
     "data": {
      "text/plain": [
       "array([0, 0, 0, ..., 0, 0, 0], dtype=int64)"
      ]
     },
     "execution_count": 109,
     "metadata": {},
     "output_type": "execute_result"
    }
   ],
   "source": [
    "y_pred"
   ]
  },
  {
   "cell_type": "code",
   "execution_count": 110,
   "id": "c6301cfa",
   "metadata": {},
   "outputs": [
    {
     "data": {
      "text/plain": [
       "array([[9154,    0],\n",
       "       [ 288,  558]], dtype=int64)"
      ]
     },
     "execution_count": 110,
     "metadata": {},
     "output_type": "execute_result"
    }
   ],
   "source": [
    "#This means all the values on the diagonal are correcly classified while the ones off diagonal are misclassified\n",
    "confusion_matrix(y_test, y_pred)"
   ]
  },
  {
   "cell_type": "code",
   "execution_count": 111,
   "id": "a25840f6",
   "metadata": {},
   "outputs": [
    {
     "data": {
      "text/plain": [
       "0.9712"
      ]
     },
     "execution_count": 111,
     "metadata": {},
     "output_type": "execute_result"
    }
   ],
   "source": [
    "#Accuracy of the model\n",
    "accuracy_score(y_test, y_pred)"
   ]
  },
  {
   "cell_type": "code",
   "execution_count": 112,
   "id": "2ab88f99",
   "metadata": {},
   "outputs": [
    {
     "data": {
      "text/plain": [
       "array([0.97111111, 0.97355556, 0.97411111, 0.96977778, 0.97188889,\n",
       "       0.972     , 0.97255556, 0.96933333, 0.97255556, 0.97255556])"
      ]
     },
     "execution_count": 112,
     "metadata": {},
     "output_type": "execute_result"
    }
   ],
   "source": [
    "#Doing a cross validation in percentage\n",
    "cross_val_score(clf, x_train, y_train, cv =10)"
   ]
  },
  {
   "cell_type": "code",
   "execution_count": 113,
   "id": "afb55d00",
   "metadata": {},
   "outputs": [
    {
     "name": "stdout",
     "output_type": "stream",
     "text": [
      "              precision    recall  f1-score   support\n",
      "\n",
      "           0       1.00      0.97      0.98      9442\n",
      "           1       0.66      1.00      0.79       558\n",
      "\n",
      "    accuracy                           0.97     10000\n",
      "   macro avg       0.83      0.98      0.89     10000\n",
      "weighted avg       0.98      0.97      0.97     10000\n",
      "\n"
     ]
    }
   ],
   "source": [
    "#Printing the classification report\n",
    "print(classification_report(y_pred, y_test))"
   ]
  },
  {
   "cell_type": "code",
   "execution_count": 114,
   "id": "c2d762b8",
   "metadata": {},
   "outputs": [
    {
     "data": {
      "image/png": "[encoded data removed]",
      "text/plain": [
       "<Figure size 432x288 with 1 Axes>"
      ]
     },
     "metadata": {
      "needs_background": "light"
     },
     "output_type": "display_data"
    }
   ],
   "source": [
    "#Making a plot for feature importance of the model. This mean HbA1clevel is the most important feature in our\n",
    "#classification model\n",
    "\n",
    "features = df.columns\n",
    "importances = clf.feature_importances_\n",
    "indices = np.argsort(importances)\n",
    "\n",
    "plt.title('Feature importances')\n",
    "plt.barh(range(len(indices)), importances[indices], color='b', align='center')\n",
    "plt.yticks(range(len(indices)),[features[i] for i in indices])\n",
    "plt.xlabel('Relative importance')\n",
    "plt.show()"
   ]
  },
  {
   "cell_type": "code",
   "execution_count": 115,
   "id": "b3d454d4",
   "metadata": {},
   "outputs": [
    {
     "data": {
      "text/plain": [
       "0.0288"
      ]
     },
     "execution_count": 115,
     "metadata": {},
     "output_type": "execute_result"
    }
   ],
   "source": [
    "mean_squared_error(y_test, y_pred)"
   ]
  },
  {
   "cell_type": "code",
   "execution_count": 116,
   "id": "09249467",
   "metadata": {},
   "outputs": [
    {
     "data": {
      "text/plain": [
       "0.16970562748477142"
      ]
     },
     "execution_count": 116,
     "metadata": {},
     "output_type": "execute_result"
    }
   ],
   "source": [
    "np.sqrt(mean_squared_error(y_test, y_pred))"
   ]
  },
  {
   "cell_type": "code",
   "execution_count": null,
   "id": "d735b205",
   "metadata": {},
   "outputs": [],
   "source": []
  }
 ],
 "metadata": {
  "kernelspec": {
   "display_name": "Python 3 (ipykernel)",
   "language": "python",
   "name": "python3"
  },
  "language_info": {
   "codemirror_mode": {
    "name": "ipython",
    "version": 3
   },
   "file_extension": ".py",
   "mimetype": "text/x-python",
   "name": "python",
   "nbconvert_exporter": "python",
   "pygments_lexer": "ipython3",
   "version": "3.9.12"
  }
 },
 "nbformat": 4,
 "nbformat_minor": 5
}
